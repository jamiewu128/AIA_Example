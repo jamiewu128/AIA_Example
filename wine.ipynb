{
  "nbformat": 4,
  "nbformat_minor": 0,
  "metadata": {
    "colab": {
      "name": "wine.ipynb",
      "version": "0.3.2",
      "provenance": [],
      "include_colab_link": true
    },
    "kernelspec": {
      "name": "python3",
      "display_name": "Python 3"
    }
  },
  "cells": [
    {
      "cell_type": "markdown",
      "metadata": {
        "id": "view-in-github",
        "colab_type": "text"
      },
      "source": [
        "<a href=\"https://colab.research.google.com/github/jamiewu128/AIA_Example/blob/master/wine.ipynb\" target=\"_parent\"><img src=\"https://colab.research.google.com/assets/colab-badge.svg\" alt=\"Open In Colab\"/></a>"
      ]
    },
    {
      "metadata": {
        "id": "ABxiCqIoEO9O",
        "colab_type": "text"
      },
      "cell_type": "markdown",
      "source": [
        "練習 : 葡萄酒數據集\n",
        "\n",
        "分類問題\n",
        "\n",
        "Source: https://archive.ics.uci.edu/ml/machine-learning-databases/wine/wine.data"
      ]
    },
    {
      "metadata": {
        "id": "lS1pmIlDHVap",
        "colab_type": "text"
      },
      "cell_type": "markdown",
      "source": [
        "1. 讀入資料"
      ]
    },
    {
      "metadata": {
        "id": "zSXo6lL1EKun",
        "colab_type": "code",
        "colab": {}
      },
      "cell_type": "code",
      "source": [
        "#using Pandas\n",
        "#load data\n",
        "# Import the `pandas` library as `pd`\n",
        "\n",
        "import pandas as pd\n",
        "\n",
        "colmn_names=[\"class\",\"Alcohol\",\"Malic acid\",\"Ash\",\"Alcalinity of ash\",\"Magnesium\",\"Total phenols\",\"Flavanoids\",\"Nonflavanoid phenols\",\"Proanthocyanins\",\"Color intensity\",\"Hue\",\"OD280/OD315 of diluted wines\",\"Proline\"]\n",
        "\n",
        "wine=pd.read_csv(\"https://archive.ics.uci.edu/ml/machine-learning-databases/wine/wine.data\", names=colmn_names)\n"
      ],
      "execution_count": 0,
      "outputs": []
    },
    {
      "metadata": {
        "id": "ARi4FeBrHa65",
        "colab_type": "text"
      },
      "cell_type": "markdown",
      "source": [
        "2. 瞭解資料\n",
        "\n",
        "資料欄位共13種, 皆為紅酒成份化學分析數值, 連續型數值資料\n",
        "目標值為1,2,3 , 區份3款紅酒\n",
        "\n",
        "1) Alcohol\n",
        " \n",
        "2) Malic acid\n",
        " \n",
        "3) Ash\n",
        "\t\n",
        "4) Alcalinity of ash  \n",
        " \n",
        "5) Magnesium\n",
        "\t\n",
        "6) Total phenols\n",
        " \n",
        "7) Flavanoids\n",
        " \n",
        "8) Nonflavanoid phenols\n",
        " \n",
        "9) Proanthocyanins\n",
        "\t\n",
        "10)Color intensity\n",
        "\n",
        "11)Hue\n",
        " \t\n",
        "12)OD280/OD315 of diluted wines\n",
        " \t\n",
        "13)Proline  "
      ]
    },
    {
      "metadata": {
        "id": "3MAo2OBmH8Wd",
        "colab_type": "code",
        "colab": {
          "base_uri": "https://localhost:8080/",
          "height": 1122
        },
        "outputId": "f3c899ec-ca4f-437a-9a1a-f437fe2b66c9"
      },
      "cell_type": "code",
      "source": [
        "#維度 (變數)\n",
        "#觀測值總數\n",
        "#目標值 (標籤)\n",
        "\n",
        "print(\"info: \",wine.info())\n",
        "print(\"desc: \",wine.describe())\n",
        "print(\"shape: \",wine.shape)\n",
        "print(wine.groupby(['class']).size())"
      ],
      "execution_count": 38,
      "outputs": [
        {
          "output_type": "stream",
          "text": [
            "<class 'pandas.core.frame.DataFrame'>\n",
            "RangeIndex: 178 entries, 0 to 177\n",
            "Data columns (total 14 columns):\n",
            "class                           178 non-null int64\n",
            "Alcohol                         178 non-null float64\n",
            "Malic acid                      178 non-null float64\n",
            "Ash                             178 non-null float64\n",
            "Alcalinity of ash               178 non-null float64\n",
            "Magnesium                       178 non-null int64\n",
            "Total phenols                   178 non-null float64\n",
            "Flavanoids                      178 non-null float64\n",
            "Nonflavanoid phenols            178 non-null float64\n",
            "Proanthocyanins                 178 non-null float64\n",
            "Color intensity                 178 non-null float64\n",
            "Hue                             178 non-null float64\n",
            "OD280/OD315 of diluted wines    178 non-null float64\n",
            "Proline                         178 non-null int64\n",
            "dtypes: float64(11), int64(3)\n",
            "memory usage: 19.5 KB\n",
            "info:  None\n",
            "desc:              class     Alcohol  Malic acid         Ash  Alcalinity of ash  \\\n",
            "count  178.000000  178.000000  178.000000  178.000000         178.000000   \n",
            "mean     1.938202   13.000618    2.336348    2.366517          19.494944   \n",
            "std      0.775035    0.811827    1.117146    0.274344           3.339564   \n",
            "min      1.000000   11.030000    0.740000    1.360000          10.600000   \n",
            "25%      1.000000   12.362500    1.602500    2.210000          17.200000   \n",
            "50%      2.000000   13.050000    1.865000    2.360000          19.500000   \n",
            "75%      3.000000   13.677500    3.082500    2.557500          21.500000   \n",
            "max      3.000000   14.830000    5.800000    3.230000          30.000000   \n",
            "\n",
            "        Magnesium  Total phenols  Flavanoids  Nonflavanoid phenols  \\\n",
            "count  178.000000     178.000000  178.000000            178.000000   \n",
            "mean    99.741573       2.295112    2.029270              0.361854   \n",
            "std     14.282484       0.625851    0.998859              0.124453   \n",
            "min     70.000000       0.980000    0.340000              0.130000   \n",
            "25%     88.000000       1.742500    1.205000              0.270000   \n",
            "50%     98.000000       2.355000    2.135000              0.340000   \n",
            "75%    107.000000       2.800000    2.875000              0.437500   \n",
            "max    162.000000       3.880000    5.080000              0.660000   \n",
            "\n",
            "       Proanthocyanins  Color intensity         Hue  \\\n",
            "count       178.000000       178.000000  178.000000   \n",
            "mean          1.590899         5.058090    0.957449   \n",
            "std           0.572359         2.318286    0.228572   \n",
            "min           0.410000         1.280000    0.480000   \n",
            "25%           1.250000         3.220000    0.782500   \n",
            "50%           1.555000         4.690000    0.965000   \n",
            "75%           1.950000         6.200000    1.120000   \n",
            "max           3.580000        13.000000    1.710000   \n",
            "\n",
            "       OD280/OD315 of diluted wines      Proline  \n",
            "count                    178.000000   178.000000  \n",
            "mean                       2.611685   746.893258  \n",
            "std                        0.709990   314.907474  \n",
            "min                        1.270000   278.000000  \n",
            "25%                        1.937500   500.500000  \n",
            "50%                        2.780000   673.500000  \n",
            "75%                        3.170000   985.000000  \n",
            "max                        4.000000  1680.000000  \n",
            "shape:  (178, 14)\n",
            "class\n",
            "1    59\n",
            "2    71\n",
            "3    48\n",
            "dtype: int64\n"
          ],
          "name": "stdout"
        }
      ]
    },
    {
      "metadata": {
        "id": "Vo6PYB25Rg8U",
        "colab_type": "code",
        "colab": {}
      },
      "cell_type": "code",
      "source": [
        "#因為資料來源將目標值(標籤)放在第0欄位, 所以我們必須將目標值欄位分割出來\n",
        "\n",
        "#資料分割出目標值\n",
        "wine_data=wine.iloc[:,1:]\n",
        "wine_target=wine.iloc[:,0]"
      ],
      "execution_count": 0,
      "outputs": []
    },
    {
      "metadata": {
        "id": "xiiO7JxEGuCy",
        "colab_type": "code",
        "colab": {
          "base_uri": "https://localhost:8080/",
          "height": 221
        },
        "outputId": "1dbfd008-2acb-4244-86c1-e52288050634"
      },
      "cell_type": "code",
      "source": [
        "wine_data.head()"
      ],
      "execution_count": 33,
      "outputs": [
        {
          "output_type": "execute_result",
          "data": {
            "text/html": [
              "<div>\n",
              "<style scoped>\n",
              "    .dataframe tbody tr th:only-of-type {\n",
              "        vertical-align: middle;\n",
              "    }\n",
              "\n",
              "    .dataframe tbody tr th {\n",
              "        vertical-align: top;\n",
              "    }\n",
              "\n",
              "    .dataframe thead th {\n",
              "        text-align: right;\n",
              "    }\n",
              "</style>\n",
              "<table border=\"1\" class=\"dataframe\">\n",
              "  <thead>\n",
              "    <tr style=\"text-align: right;\">\n",
              "      <th></th>\n",
              "      <th>Alcohol</th>\n",
              "      <th>Malic acid</th>\n",
              "      <th>Ash</th>\n",
              "      <th>Alcalinity of ash</th>\n",
              "      <th>Magnesium</th>\n",
              "      <th>Total phenols</th>\n",
              "      <th>Flavanoids</th>\n",
              "      <th>Nonflavanoid phenols</th>\n",
              "      <th>Proanthocyanins</th>\n",
              "      <th>Color intensity</th>\n",
              "      <th>Hue</th>\n",
              "      <th>OD280/OD315 of diluted wines</th>\n",
              "      <th>Proline</th>\n",
              "    </tr>\n",
              "  </thead>\n",
              "  <tbody>\n",
              "    <tr>\n",
              "      <th>0</th>\n",
              "      <td>14.23</td>\n",
              "      <td>1.71</td>\n",
              "      <td>2.43</td>\n",
              "      <td>15.6</td>\n",
              "      <td>127</td>\n",
              "      <td>2.80</td>\n",
              "      <td>3.06</td>\n",
              "      <td>0.28</td>\n",
              "      <td>2.29</td>\n",
              "      <td>5.64</td>\n",
              "      <td>1.04</td>\n",
              "      <td>3.92</td>\n",
              "      <td>1065</td>\n",
              "    </tr>\n",
              "    <tr>\n",
              "      <th>1</th>\n",
              "      <td>13.20</td>\n",
              "      <td>1.78</td>\n",
              "      <td>2.14</td>\n",
              "      <td>11.2</td>\n",
              "      <td>100</td>\n",
              "      <td>2.65</td>\n",
              "      <td>2.76</td>\n",
              "      <td>0.26</td>\n",
              "      <td>1.28</td>\n",
              "      <td>4.38</td>\n",
              "      <td>1.05</td>\n",
              "      <td>3.40</td>\n",
              "      <td>1050</td>\n",
              "    </tr>\n",
              "    <tr>\n",
              "      <th>2</th>\n",
              "      <td>13.16</td>\n",
              "      <td>2.36</td>\n",
              "      <td>2.67</td>\n",
              "      <td>18.6</td>\n",
              "      <td>101</td>\n",
              "      <td>2.80</td>\n",
              "      <td>3.24</td>\n",
              "      <td>0.30</td>\n",
              "      <td>2.81</td>\n",
              "      <td>5.68</td>\n",
              "      <td>1.03</td>\n",
              "      <td>3.17</td>\n",
              "      <td>1185</td>\n",
              "    </tr>\n",
              "    <tr>\n",
              "      <th>3</th>\n",
              "      <td>14.37</td>\n",
              "      <td>1.95</td>\n",
              "      <td>2.50</td>\n",
              "      <td>16.8</td>\n",
              "      <td>113</td>\n",
              "      <td>3.85</td>\n",
              "      <td>3.49</td>\n",
              "      <td>0.24</td>\n",
              "      <td>2.18</td>\n",
              "      <td>7.80</td>\n",
              "      <td>0.86</td>\n",
              "      <td>3.45</td>\n",
              "      <td>1480</td>\n",
              "    </tr>\n",
              "    <tr>\n",
              "      <th>4</th>\n",
              "      <td>13.24</td>\n",
              "      <td>2.59</td>\n",
              "      <td>2.87</td>\n",
              "      <td>21.0</td>\n",
              "      <td>118</td>\n",
              "      <td>2.80</td>\n",
              "      <td>2.69</td>\n",
              "      <td>0.39</td>\n",
              "      <td>1.82</td>\n",
              "      <td>4.32</td>\n",
              "      <td>1.04</td>\n",
              "      <td>2.93</td>\n",
              "      <td>735</td>\n",
              "    </tr>\n",
              "  </tbody>\n",
              "</table>\n",
              "</div>"
            ],
            "text/plain": [
              "   Alcohol  Malic acid   Ash  Alcalinity of ash  Magnesium  Total phenols  \\\n",
              "0    14.23        1.71  2.43               15.6        127           2.80   \n",
              "1    13.20        1.78  2.14               11.2        100           2.65   \n",
              "2    13.16        2.36  2.67               18.6        101           2.80   \n",
              "3    14.37        1.95  2.50               16.8        113           3.85   \n",
              "4    13.24        2.59  2.87               21.0        118           2.80   \n",
              "\n",
              "   Flavanoids  Nonflavanoid phenols  Proanthocyanins  Color intensity   Hue  \\\n",
              "0        3.06                  0.28             2.29             5.64  1.04   \n",
              "1        2.76                  0.26             1.28             4.38  1.05   \n",
              "2        3.24                  0.30             2.81             5.68  1.03   \n",
              "3        3.49                  0.24             2.18             7.80  0.86   \n",
              "4        2.69                  0.39             1.82             4.32  1.04   \n",
              "\n",
              "   OD280/OD315 of diluted wines  Proline  \n",
              "0                          3.92     1065  \n",
              "1                          3.40     1050  \n",
              "2                          3.17     1185  \n",
              "3                          3.45     1480  \n",
              "4                          2.93      735  "
            ]
          },
          "metadata": {
            "tags": []
          },
          "execution_count": 33
        }
      ]
    },
    {
      "metadata": {
        "id": "ht1QQCP-KUgh",
        "colab_type": "text"
      },
      "cell_type": "markdown",
      "source": [
        "4.  正規化(Normalization)"
      ]
    },
    {
      "metadata": {
        "id": "Pc75qj7uKb8b",
        "colab_type": "code",
        "outputId": "962501ac-3327-4cf8-b478-8f5510b4cf75",
        "colab": {
          "base_uri": "https://localhost:8080/",
          "height": 85
        }
      },
      "cell_type": "code",
      "source": [
        "from sklearn import preprocessing\n",
        "for i in wine_data.columns:\n",
        "  d=wine_data[i]\n",
        "  scale_d=preprocessing.minmax_scale(d,axis=0,feature_range=(0, 1))\n",
        "  wine_data[i]=scale_d"
      ],
      "execution_count": 43,
      "outputs": [
        {
          "output_type": "stream",
          "text": [
            "/usr/local/lib/python3.6/dist-packages/sklearn/utils/validation.py:595: DataConversionWarning: Data with input dtype int64 was converted to float64.\n",
            "  warnings.warn(msg, DataConversionWarning)\n",
            "/usr/local/lib/python3.6/dist-packages/sklearn/utils/validation.py:595: DataConversionWarning: Data with input dtype int64 was converted to float64.\n",
            "  warnings.warn(msg, DataConversionWarning)\n"
          ],
          "name": "stderr"
        }
      ]
    },
    {
      "metadata": {
        "id": "9KGmbrmelgZk",
        "colab_type": "code",
        "colab": {}
      },
      "cell_type": "code",
      "source": [
        "#切割 訓練集/測試集\n",
        "from sklearn.model_selection import train_test_split\n",
        "\n",
        "# Split the data into training and test sets \n",
        "X_train, X_test, y_train, y_test = train_test_split(wine_data, wine_target, test_size=0.2, random_state=42)"
      ],
      "execution_count": 0,
      "outputs": []
    },
    {
      "metadata": {
        "id": "4NFW8oWKnC4K",
        "colab_type": "code",
        "outputId": "ace06234-02ad-41f0-d808-6d6d2d3b6b00",
        "colab": {
          "base_uri": "https://localhost:8080/",
          "height": 139
        }
      },
      "cell_type": "code",
      "source": [
        "#使用SVM中的SVC分類模型\n",
        "from sklearn import svm\n",
        "\n",
        "# Create the SVC model \n",
        "svc_model = svm.SVC()\n",
        "\n",
        "#開始訓練\n",
        "# Fit the data to the SVC model\n",
        "svc_model.fit(X_train, y_train)"
      ],
      "execution_count": 45,
      "outputs": [
        {
          "output_type": "stream",
          "text": [
            "/usr/local/lib/python3.6/dist-packages/sklearn/svm/base.py:196: FutureWarning: The default value of gamma will change from 'auto' to 'scale' in version 0.22 to account better for unscaled features. Set gamma explicitly to 'auto' or 'scale' to avoid this warning.\n",
            "  \"avoid this warning.\", FutureWarning)\n"
          ],
          "name": "stderr"
        },
        {
          "output_type": "execute_result",
          "data": {
            "text/plain": [
              "SVC(C=1.0, cache_size=200, class_weight=None, coef0=0.0,\n",
              "  decision_function_shape='ovr', degree=3, gamma='auto_deprecated',\n",
              "  kernel='rbf', max_iter=-1, probability=False, random_state=None,\n",
              "  shrinking=True, tol=0.001, verbose=False)"
            ]
          },
          "metadata": {
            "tags": []
          },
          "execution_count": 45
        }
      ]
    },
    {
      "metadata": {
        "id": "MYuZM93Injdg",
        "colab_type": "code",
        "outputId": "905cf13d-c8bf-49ea-ddfc-ba7f49a823ba",
        "colab": {
          "base_uri": "https://localhost:8080/",
          "height": 51
        }
      },
      "cell_type": "code",
      "source": [
        "#利用測試集預測結果\n",
        "y_pred=svc_model.predict(X_test)\n",
        "y_pred"
      ],
      "execution_count": 46,
      "outputs": [
        {
          "output_type": "execute_result",
          "data": {
            "text/plain": [
              "array([1, 1, 3, 1, 2, 1, 2, 3, 2, 3, 1, 3, 1, 2, 1, 2, 2, 2, 1, 2, 1, 2,\n",
              "       2, 3, 3, 3, 2, 2, 2, 1, 1, 2, 3, 1, 1, 1])"
            ]
          },
          "metadata": {
            "tags": []
          },
          "execution_count": 46
        }
      ]
    },
    {
      "metadata": {
        "id": "vLvg8VjWSl00",
        "colab_type": "code",
        "outputId": "cbd46966-f60d-4c56-ce7f-5650535b0574",
        "colab": {
          "base_uri": "https://localhost:8080/",
          "height": 34
        }
      },
      "cell_type": "code",
      "source": [
        "#分析模型預測正確率\n",
        "from sklearn import metrics\n",
        "import numpy as np\n",
        "acc_score=metrics.accuracy_score(np.array(y_test),y_pred)\n",
        "print(\"accuracy score: \",acc_score)"
      ],
      "execution_count": 47,
      "outputs": [
        {
          "output_type": "stream",
          "text": [
            "accuracy score:  1.0\n"
          ],
          "name": "stdout"
        }
      ]
    },
    {
      "metadata": {
        "id": "Z4vbxBFAIxZE",
        "colab_type": "code",
        "colab": {
          "base_uri": "https://localhost:8080/",
          "height": 68
        },
        "outputId": "fbddcf27-0925-4eb3-9fde-a117947f3723"
      },
      "cell_type": "code",
      "source": [
        "#使用分群演算法\n",
        "from sklearn import cluster\n",
        "\n",
        "km = cluster.KMeans(n_clusters = 3)\n",
        "km.fit(X_train)"
      ],
      "execution_count": 48,
      "outputs": [
        {
          "output_type": "execute_result",
          "data": {
            "text/plain": [
              "KMeans(algorithm='auto', copy_x=True, init='k-means++', max_iter=300,\n",
              "    n_clusters=3, n_init=10, n_jobs=None, precompute_distances='auto',\n",
              "    random_state=None, tol=0.0001, verbose=0)"
            ]
          },
          "metadata": {
            "tags": []
          },
          "execution_count": 48
        }
      ]
    },
    {
      "metadata": {
        "id": "PzHUwttgJGkM",
        "colab_type": "code",
        "colab": {
          "base_uri": "https://localhost:8080/",
          "height": 136
        },
        "outputId": "674f6361-83af-4895-fc9f-74dd3ccbad56"
      },
      "cell_type": "code",
      "source": [
        "km.labels_"
      ],
      "execution_count": 49,
      "outputs": [
        {
          "output_type": "execute_result",
          "data": {
            "text/plain": [
              "array([1, 1, 0, 1, 2, 0, 0, 1, 1, 2, 0, 0, 1, 2, 0, 2, 2, 1, 1, 0, 0, 2,\n",
              "       0, 2, 1, 0, 0, 1, 2, 2, 2, 1, 2, 2, 2, 1, 0, 2, 1, 0, 2, 1, 0, 0,\n",
              "       2, 0, 2, 2, 0, 2, 2, 1, 0, 0, 0, 2, 0, 0, 0, 1, 1, 2, 0, 1, 1, 1,\n",
              "       2, 2, 0, 1, 1, 0, 1, 0, 0, 0, 2, 2, 1, 2, 1, 2, 2, 0, 0, 2, 2, 2,\n",
              "       0, 0, 1, 1, 0, 0, 1, 1, 1, 0, 2, 2, 0, 1, 1, 2, 0, 1, 1, 1, 1, 0,\n",
              "       2, 0, 2, 1, 2, 2, 0, 2, 2, 1, 0, 2, 1, 1, 2, 2, 1, 1, 1, 0, 0, 0,\n",
              "       0, 0, 0, 1, 2, 0, 0, 2, 1, 0], dtype=int32)"
            ]
          },
          "metadata": {
            "tags": []
          },
          "execution_count": 49
        }
      ]
    }
  ]
}